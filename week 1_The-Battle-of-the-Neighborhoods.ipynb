{
    "cells": [
        {
            "metadata": {
                "collapsed": true
            },
            "cell_type": "markdown",
            "source": "# Capstone Project - The Battle of the Neighborhoods (Week 1)\n### Applied Data Science Capstone by IBM/Coursera"
        },
        {
            "metadata": {},
            "cell_type": "markdown",
            "source": "## Table of contents\n* [Introduction: Business Problem](#introduction)\n* [Data](#data)\n* [Methodology](#methodology)\n* [Analysis](#analysis)\n* [Results and Discussion](#results)\n* [Conclusion](#conclusion)"
        },
        {
            "metadata": {},
            "cell_type": "markdown",
            "source": "\n\n## Introduction: Business Problem <a name=\"introduction\"></a>"
        },
        {
            "metadata": {},
            "cell_type": "markdown",
            "source": "\nThis project wants to show if it is convenient to open a **Coffee shop** in **Tirana**, Albania. People who might be interested in this analysis are future young entrepreneurs, who are new to the Coffee shop industry.\n\nTirana has a population density of 500 people per square kilometre, is the most densely populated municipality in the country. About 1/4 of the country's total population is located in Tirana.\nNow, since the citizens of Tirana like a good coffee in company, it may be a good idea to open a Coffee shop, let find it out, if it really is so!\n\nWe will try to detect **locations that are not already crowded with Coffee shops**. We are interested in locations with **no Coffee shops in nearby** and for sure **as close to city center as possible**, assuming that first two conditions are met.\n\nWe will use our data science powers to generate a few most promissing neighborhoods based on this criteria. Advantages of each area will then be clearly expressed so that best possible final location can be chosen by stakeholders."
        },
        {
            "metadata": {},
            "cell_type": "markdown",
            "source": "## Data <a name=\"data\"></a>"
        },
        {
            "metadata": {},
            "cell_type": "markdown",
            "source": "Based on definition of our problem, factors that will influence our decission are:\n* number of existing Coffe shops in the neighborhood\n* distance to Coffe shops in the neighborhood, if any:\n* distance of neighborhood from city center\n\nWe decided to use regularly spaced grid of locations, centered around city center, to define our neighborhoods.\n\nFollowing data sources will be needed to extract/generate the required information:\n* centers of candidate areas will be generated algorithmically and approximate addresses of centers of those areas will be obtained using **Google Maps API reverse geocoding**\n* number of Coffe shops and their type and location in every neighborhood will be obtained using **Foursquare API**\n* coordinate of Tirana city center will be obtained using **Google Maps API geocoding** of the known Skanderbeg Square."
        },
        {
            "metadata": {},
            "cell_type": "markdown",
            "source": "##### TIRANA CITY CENTER"
        },
        {
            "metadata": {},
            "cell_type": "markdown",
            "source": "Let's first find the latitude & longitude of Tirana city center, using specific, well known address and Google Maps geocoding API."
        },
        {
            "metadata": {},
            "cell_type": "code",
            "source": "import pandas as pd\nimport numpy as np\npd.set_option('display.max_columns', None)\npd.set_option('display.max_rows', None)\nimport requests\nimport sys\nfrom bs4 import BeautifulSoup\nimport os\nfrom geopy.geocoders import Nominatim \nimport matplotlib.pyplot as plt\nimport matplotlib.cm as cm\nimport matplotlib.colors as colors\n%matplotlib inline\n\n\nprint('Libraries imported.')",
            "execution_count": 14,
            "outputs": [
                {
                    "output_type": "stream",
                    "text": "Libraries imported.\n",
                    "name": "stdout"
                }
            ]
        },
        {
            "metadata": {},
            "cell_type": "code",
            "source": "import json\nurl = 'https://api.foursquare.com/v2/venues/explore'\n\nparams = dict(\nclient_id='UR0UP5N0SGHDMNDAKQHZG213Y1ESEGPFOZ2OZHKSBRZQQ4ZM',\nclient_secret='GDFCMZSWXMJZUOAEX3ERJVLHHQQFIL4ZPTINJIWWJZCVLVYP',\nv='20201111',\nll='41.328868,19.818570',\nquery='coffee',\nlimit=1\n)\nresp = requests.get(url=url, params=params)\ndata = json.loads(resp.text)\nprint (data)",
            "execution_count": 16,
            "outputs": [
                {
                    "output_type": "stream",
                    "text": "{'meta': {'code': 200, 'requestId': '5fac10596e16037dc7c5166b'}, 'response': {'suggestedFilters': {'header': 'Tap to show:', 'filters': [{'name': 'Open now', 'key': 'openNow'}]}, 'warning': {'text': 'There aren\\'t a lot of results for \"coffee.\" Try something more general, reset your filters, or expand the search area.'}, 'suggestedRadius': 1619, 'headerLocation': 'Tirana', 'headerFullLocation': 'Tirana', 'headerLocationGranularity': 'city', 'query': 'coffee', 'totalResults': 72, 'suggestedBounds': {'ne': {'lat': 41.33217536675265, 'lng': 19.81920277856529}, 'sw': {'lat': 41.3294757069672, 'lng': 19.822262660200614}}, 'groups': [{'type': 'Recommended Places', 'name': 'recommended', 'items': [{'reasons': {'count': 0, 'items': [{'summary': 'This spot is popular', 'type': 'general', 'reasonName': 'globalInteractionReason'}]}, 'venue': {'id': '562a5fef498e8e32d797c9c2', 'name': 'Mulliri Vjeter', 'location': {'address': 'Rr. Barrikadave', 'lat': 41.330825536859926, 'lng': 19.82073271938295, 'labeledLatLngs': [{'label': 'display', 'lat': 41.330825536859926, 'lng': 19.82073271938295}], 'distance': 283, 'postalCode': '1000', 'cc': 'AL', 'city': 'Tirana', 'state': 'Qarku i Tiran\u00ebs', 'country': 'Shqip\u00ebria', 'formattedAddress': ['Rr. Barrikadave', 'Tirana 1000', 'Shqip\u00ebria']}, 'categories': [{'id': '4bf58dd8d48988d16d941735', 'name': 'Caf\u00e9', 'pluralName': 'Caf\u00e9s', 'shortName': 'Caf\u00e9', 'icon': {'prefix': 'https://ss3.4sqi.net/img/categories_v2/food/cafe_', 'suffix': '.png'}, 'primary': True}], 'photos': {'count': 0, 'groups': []}}, 'referralId': 'e-0-562a5fef498e8e32d797c9c2-0'}]}]}}\n",
                    "name": "stdout"
                }
            ]
        },
        {
            "metadata": {},
            "cell_type": "code",
            "source": "",
            "execution_count": null,
            "outputs": []
        },
        {
            "metadata": {},
            "cell_type": "markdown",
            "source": "## Methodology <a name=\"data\"></a>"
        },
        {
            "metadata": {},
            "cell_type": "markdown",
            "source": "## Analysis <a name=\"data\"></a>"
        },
        {
            "metadata": {},
            "cell_type": "markdown",
            "source": "## Results and Discussion <a name=\"data\"></a>"
        },
        {
            "metadata": {},
            "cell_type": "markdown",
            "source": "## Conclusion <a name=\"data\"></a>"
        },
        {
            "metadata": {},
            "cell_type": "code",
            "source": "",
            "execution_count": null,
            "outputs": []
        }
    ],
    "metadata": {
        "kernelspec": {
            "name": "python3",
            "display_name": "Python 3.6",
            "language": "python"
        },
        "language_info": {
            "name": "python",
            "version": "3.6.9",
            "mimetype": "text/x-python",
            "codemirror_mode": {
                "name": "ipython",
                "version": 3
            },
            "pygments_lexer": "ipython3",
            "nbconvert_exporter": "python",
            "file_extension": ".py"
        }
    },
    "nbformat": 4,
    "nbformat_minor": 1
}